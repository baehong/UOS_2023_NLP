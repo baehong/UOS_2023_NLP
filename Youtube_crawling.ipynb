{
 "cells": [
  {
   "cell_type": "markdown",
   "id": "995af2ec",
   "metadata": {},
   "source": [
    "# 라이브러리 호출"
   ]
  },
  {
   "cell_type": "code",
   "execution_count": 31,
   "id": "c89601d2",
   "metadata": {},
   "outputs": [
    {
     "name": "stdout",
     "output_type": "stream",
     "text": [
      "Requirement already satisfied: selenium in c:\\users\\82109\\anaconda3\\lib\\site-packages (3.141.0)\n",
      "Requirement already satisfied: urllib3 in c:\\users\\82109\\anaconda3\\lib\\site-packages (from selenium) (1.26.16)\n"
     ]
    },
    {
     "name": "stderr",
     "output_type": "stream",
     "text": [
      "DEPRECATION: pyodbc 4.0.0-unsupported has a non-standard version number. pip 24.0 will enforce this behaviour change. A possible replacement is to upgrade to a newer version of pyodbc or contact the author to suggest that they release a version with a conforming version number. Discussion can be found at https://github.com/pypa/pip/issues/12063\n"
     ]
    },
    {
     "name": "stdout",
     "output_type": "stream",
     "text": [
      "Requirement already satisfied: stylecloud in c:\\users\\82109\\anaconda3\\lib\\site-packages (0.5.2)\n",
      "Requirement already satisfied: wordcloud in c:\\users\\82109\\anaconda3\\lib\\site-packages (from stylecloud) (1.8.1)\n",
      "Requirement already satisfied: icon-font-to-png in c:\\users\\82109\\anaconda3\\lib\\site-packages (from stylecloud) (0.4.1)\n",
      "Requirement already satisfied: palettable in c:\\users\\82109\\anaconda3\\lib\\site-packages (from stylecloud) (3.3.3)\n",
      "Requirement already satisfied: fire in c:\\users\\82109\\anaconda3\\lib\\site-packages (from stylecloud) (0.5.0)\n",
      "Requirement already satisfied: matplotlib in c:\\users\\82109\\anaconda3\\lib\\site-packages (from stylecloud) (3.3.4)\n",
      "Requirement already satisfied: six in c:\\users\\82109\\anaconda3\\lib\\site-packages (from fire->stylecloud) (1.15.0)\n",
      "Requirement already satisfied: termcolor in c:\\users\\82109\\anaconda3\\lib\\site-packages (from fire->stylecloud) (2.2.0)\n",
      "Requirement already satisfied: Pillow>=4.0.0 in c:\\users\\82109\\anaconda3\\lib\\site-packages (from icon-font-to-png->stylecloud) (8.2.0)\n",
      "Requirement already satisfied: requests>=2.12.5 in c:\\users\\82109\\anaconda3\\lib\\site-packages (from icon-font-to-png->stylecloud) (2.31.0)\n",
      "Requirement already satisfied: tinycss>=0.4 in c:\\users\\82109\\anaconda3\\lib\\site-packages (from icon-font-to-png->stylecloud) (0.4)\n",
      "Requirement already satisfied: cycler>=0.10 in c:\\users\\82109\\anaconda3\\lib\\site-packages (from matplotlib->stylecloud) (0.10.0)\n",
      "Requirement already satisfied: kiwisolver>=1.0.1 in c:\\users\\82109\\anaconda3\\lib\\site-packages (from matplotlib->stylecloud) (1.3.1)\n",
      "Requirement already satisfied: numpy>=1.15 in c:\\users\\82109\\anaconda3\\lib\\site-packages (from matplotlib->stylecloud) (1.24.4)\n",
      "Requirement already satisfied: pyparsing!=2.0.4,!=2.1.2,!=2.1.6,>=2.0.3 in c:\\users\\82109\\anaconda3\\lib\\site-packages (from matplotlib->stylecloud) (2.4.7)\n",
      "Requirement already satisfied: python-dateutil>=2.1 in c:\\users\\82109\\anaconda3\\lib\\site-packages (from matplotlib->stylecloud) (2.8.1)\n",
      "Requirement already satisfied: charset-normalizer<4,>=2 in c:\\users\\82109\\anaconda3\\lib\\site-packages (from requests>=2.12.5->icon-font-to-png->stylecloud) (3.2.0)\n",
      "Requirement already satisfied: idna<4,>=2.5 in c:\\users\\82109\\anaconda3\\lib\\site-packages (from requests>=2.12.5->icon-font-to-png->stylecloud) (3.4)\n",
      "Requirement already satisfied: urllib3<3,>=1.21.1 in c:\\users\\82109\\anaconda3\\lib\\site-packages (from requests>=2.12.5->icon-font-to-png->stylecloud) (1.26.16)\n",
      "Requirement already satisfied: certifi>=2017.4.17 in c:\\users\\82109\\anaconda3\\lib\\site-packages (from requests>=2.12.5->icon-font-to-png->stylecloud) (2023.7.22)\n"
     ]
    },
    {
     "name": "stderr",
     "output_type": "stream",
     "text": [
      "DEPRECATION: pyodbc 4.0.0-unsupported has a non-standard version number. pip 24.0 will enforce this behaviour change. A possible replacement is to upgrade to a newer version of pyodbc or contact the author to suggest that they release a version with a conforming version number. Discussion can be found at https://github.com/pypa/pip/issues/12063\n"
     ]
    },
    {
     "name": "stdout",
     "output_type": "stream",
     "text": [
      "Requirement already satisfied: youtube_transcript_api in c:\\users\\82109\\anaconda3\\lib\\site-packages (0.6.1)\n",
      "Requirement already satisfied: requests in c:\\users\\82109\\anaconda3\\lib\\site-packages (from youtube_transcript_api) (2.31.0)\n",
      "Requirement already satisfied: charset-normalizer<4,>=2 in c:\\users\\82109\\anaconda3\\lib\\site-packages (from requests->youtube_transcript_api) (3.2.0)\n",
      "Requirement already satisfied: idna<4,>=2.5 in c:\\users\\82109\\anaconda3\\lib\\site-packages (from requests->youtube_transcript_api) (3.4)\n",
      "Requirement already satisfied: urllib3<3,>=1.21.1 in c:\\users\\82109\\anaconda3\\lib\\site-packages (from requests->youtube_transcript_api) (1.26.16)"
     ]
    },
    {
     "name": "stderr",
     "output_type": "stream",
     "text": [
      "DEPRECATION: pyodbc 4.0.0-unsupported has a non-standard version number. pip 24.0 will enforce this behaviour change. A possible replacement is to upgrade to a newer version of pyodbc or contact the author to suggest that they release a version with a conforming version number. Discussion can be found at https://github.com/pypa/pip/issues/12063\n"
     ]
    },
    {
     "name": "stdout",
     "output_type": "stream",
     "text": [
      "\n",
      "Requirement already satisfied: certifi>=2017.4.17 in c:\\users\\82109\\anaconda3\\lib\\site-packages (from requests->youtube_transcript_api) (2023.7.22)\n",
      "Requirement already satisfied: tqdm in c:\\users\\82109\\anaconda3\\lib\\site-packages (4.66.1)"
     ]
    },
    {
     "name": "stderr",
     "output_type": "stream",
     "text": [
      "DEPRECATION: pyodbc 4.0.0-unsupported has a non-standard version number. pip 24.0 will enforce this behaviour change. A possible replacement is to upgrade to a newer version of pyodbc or contact the author to suggest that they release a version with a conforming version number. Discussion can be found at https://github.com/pypa/pip/issues/12063\n"
     ]
    },
    {
     "name": "stdout",
     "output_type": "stream",
     "text": [
      "\n",
      "Requirement already satisfied: colorama in c:\\users\\82109\\anaconda3\\lib\\site-packages (from tqdm) (0.4.4)\n"
     ]
    }
   ],
   "source": [
    "!pip install selenium\n",
    "!pip install stylecloud\n",
    "!pip install youtube_transcript_api\n",
    "!pip install tqdm"
   ]
  },
  {
   "cell_type": "code",
   "execution_count": 1,
   "id": "fec28105",
   "metadata": {},
   "outputs": [],
   "source": [
    "## 댓글 & 제목/URL\n",
    "import matplotlib.pyplot as plt\n",
    "from konlpy.tag import Hannanum\n",
    "from bs4 import BeautifulSoup\n",
    "import time\n",
    "from selenium.webdriver import Chrome\n",
    "from selenium.webdriver.common.keys import Keys\n",
    "from selenium.webdriver.common.by import By\n",
    "import pandas as pd\n",
    "import re\n",
    "from collections import Counter\n",
    "from wordcloud import WordCloud\n",
    "# Expected chromedriver.exe\n",
    "\n",
    "import tqdm\n",
    "import random"
   ]
  },
  {
   "cell_type": "code",
   "execution_count": 2,
   "id": "38e22ec3",
   "metadata": {},
   "outputs": [],
   "source": [
    "## 자막\n",
    "from youtube_transcript_api import YouTubeTranscriptApi"
   ]
  },
  {
   "cell_type": "markdown",
   "id": "e35f8f83",
   "metadata": {},
   "source": [
    "# 함수 정의"
   ]
  },
  {
   "cell_type": "code",
   "execution_count": 3,
   "id": "1fb6a863",
   "metadata": {},
   "outputs": [],
   "source": [
    "# 이모티콘 제거\n",
    "emoji_pattern = re.compile(\"[\"\n",
    "                           u\"\\U0001F600-\\U0001F64F\"  # emoticons\n",
    "                           u\"\\U0001F300-\\U0001F5FF\"  # symbols & pictographs\n",
    "                           u\"\\U0001F680-\\U0001F6FF\"  # transport & map symbols\n",
    "                           u\"\\U0001F1E0-\\U0001F1FF\"  # flags (iOS)\n",
    "                           \"]+\", flags=re.UNICODE)\n",
    "\n",
    "# 분석에 어긋나는 불용어구 제외 (특수문자, 의성어)\n",
    "han = re.compile(r'[ㄱ-ㅎㅏ-ㅣ!?~,\"\\n\\r#\\ufeff\\u200d]')"
   ]
  },
  {
   "cell_type": "code",
   "execution_count": 4,
   "id": "c9f69280",
   "metadata": {},
   "outputs": [],
   "source": [
    "def get_comment(url, num_scroll = 50):\n",
    "    #num_scroll = int(input('input num of scroll (50 recommend) : '))\n",
    "    browser = Chrome()\n",
    "    browser.get(url)\n",
    "    browser.implicitly_wait(2)\n",
    "    body = browser.find_element_by_tag_name('body')\n",
    "    yt_id = []\n",
    "    yt_content = []\n",
    "    yt_likes = []\n",
    "    while num_scroll:\n",
    "        body.send_keys(Keys.PAGE_DOWN)\n",
    "        time.sleep(0.3)\n",
    "        num_scroll -= 1\n",
    "    html0 = browser.page_source\n",
    "    html = BeautifulSoup(html0, 'html.parser')\n",
    "    browser.close()\n",
    "    result = html.find_all(\"div\", id='main')\n",
    "    for i in result:\n",
    "        i = BeautifulSoup(str(i), 'html.parser')\n",
    "        try:\n",
    "            yt_id.append(i.find('a', id='author-text').text)\n",
    "            yt_content.append(i.find('div', id='comment-content').text)\n",
    "            yt_likes.append(i.find('span', id='vote-count-middle').text)\n",
    "        except:\n",
    "            print('Exception!!!!!!!!!')\n",
    "    df = pd.DataFrame({'id': yt_id, 'content': yt_content, 'likes': yt_likes})\n",
    "    df.index = df.index.map(str)\n",
    "    \n",
    "    return df\n",
    "\n",
    "def preprocess_text(text):\n",
    "    text = emoji_pattern.sub('', text)\n",
    "    text = han.sub('', text)\n",
    "    return text\n",
    "\n",
    "def preprocess_likes(like):\n",
    "    number_like = ''.join(filter(str.isdigit, like))\n",
    "    return int(number_like)\n",
    "\n",
    "def get_id(url):\n",
    "    video_id = re.search(r\"v=([A-Za-z0-9_-]+)\", url).group(1)\n",
    "    return video_id\n",
    "\n",
    "def comment_cleaner(text):\n",
    "    return re.sub(r'간략히자세히 보기', '', text)"
   ]
  },
  {
   "cell_type": "code",
   "execution_count": 21,
   "id": "67622e49",
   "metadata": {},
   "outputs": [
    {
     "data": {
      "text/html": [
       "<div>\n",
       "<style scoped>\n",
       "    .dataframe tbody tr th:only-of-type {\n",
       "        vertical-align: middle;\n",
       "    }\n",
       "\n",
       "    .dataframe tbody tr th {\n",
       "        vertical-align: top;\n",
       "    }\n",
       "\n",
       "    .dataframe thead th {\n",
       "        text-align: right;\n",
       "    }\n",
       "</style>\n",
       "<table border=\"1\" class=\"dataframe\">\n",
       "  <thead>\n",
       "    <tr style=\"text-align: right;\">\n",
       "      <th></th>\n",
       "      <th>id</th>\n",
       "      <th>content</th>\n",
       "      <th>likes</th>\n",
       "    </tr>\n",
       "  </thead>\n",
       "  <tbody>\n",
       "    <tr>\n",
       "      <th>0</th>\n",
       "      <td>\\n@user-uf7in4sn5z\\n</td>\n",
       "      <td>1 조언해주는 사람을 신중하게 고르기2 나에게 맞는 말들을 잘 선별하기3 책임을 ...</td>\n",
       "      <td>\\n    153\\n</td>\n",
       "    </tr>\n",
       "    <tr>\n",
       "      <th>1</th>\n",
       "      <td>\\n@user-vvsvv\\n</td>\n",
       "      <td>조언을 해 줄 사람을 신중하게 구한다는 말.. 정말 그게 중요한 것 같아요간략히자...</td>\n",
       "      <td>\\n    121\\n</td>\n",
       "    </tr>\n",
       "    <tr>\n",
       "      <th>2</th>\n",
       "      <td>\\n@kkm9637\\n</td>\n",
       "      <td>내 삶에 대해서 판단력을 가지는 것과주체적으로 생각하는 근육 키우는 게정말 중요한...</td>\n",
       "      <td>\\n    7\\n</td>\n",
       "    </tr>\n",
       "    <tr>\n",
       "      <th>3</th>\n",
       "      <td>\\n@user-rd9jc7by4v\\n</td>\n",
       "      <td>딱 저를 위한 영상... 제 감정이나 의견을 존중하지 않는 부모님 아래에서 자라기...</td>\n",
       "      <td>\\n    37\\n</td>\n",
       "    </tr>\n",
       "    <tr>\n",
       "      <th>4</th>\n",
       "      <td>\\n@nemblis\\n</td>\n",
       "      <td>이 영상은 정말 많은 사람들의 생각과 감정을 대변하는 것 같아요. 제 자신에 대한...</td>\n",
       "      <td>\\n    3\\n</td>\n",
       "    </tr>\n",
       "  </tbody>\n",
       "</table>\n",
       "</div>"
      ],
      "text/plain": [
       "                     id                                            content  \\\n",
       "0  \\n@user-uf7in4sn5z\\n   1 조언해주는 사람을 신중하게 고르기2 나에게 맞는 말들을 잘 선별하기3 책임을 ...   \n",
       "1       \\n@user-vvsvv\\n   조언을 해 줄 사람을 신중하게 구한다는 말.. 정말 그게 중요한 것 같아요간략히자...   \n",
       "2          \\n@kkm9637\\n   내 삶에 대해서 판단력을 가지는 것과주체적으로 생각하는 근육 키우는 게정말 중요한...   \n",
       "3  \\n@user-rd9jc7by4v\\n   딱 저를 위한 영상... 제 감정이나 의견을 존중하지 않는 부모님 아래에서 자라기...   \n",
       "4          \\n@nemblis\\n   이 영상은 정말 많은 사람들의 생각과 감정을 대변하는 것 같아요. 제 자신에 대한...   \n",
       "\n",
       "           likes  \n",
       "0  \\n    153\\n    \n",
       "1  \\n    121\\n    \n",
       "2    \\n    7\\n    \n",
       "3   \\n    37\\n    \n",
       "4    \\n    3\\n    "
      ]
     },
     "execution_count": 21,
     "metadata": {},
     "output_type": "execute_result"
    }
   ],
   "source": [
    "df.head()"
   ]
  },
  {
   "cell_type": "markdown",
   "id": "3865575e",
   "metadata": {},
   "source": [
    "# 제목 및 URL "
   ]
  },
  {
   "cell_type": "code",
   "execution_count": 286,
   "id": "fbc0145e",
   "metadata": {},
   "outputs": [],
   "source": [
    "url = 'https://www.youtube.com/@TheoBaker./videos'"
   ]
  },
  {
   "cell_type": "code",
   "execution_count": 287,
   "id": "223f5168",
   "metadata": {},
   "outputs": [],
   "source": [
    "browser = Chrome()\n",
    "browser.get(url)\n",
    "browser.maximize_window()"
   ]
  },
  {
   "cell_type": "code",
   "execution_count": 288,
   "id": "edea9d32",
   "metadata": {},
   "outputs": [
    {
     "name": "stdout",
     "output_type": "stream",
     "text": [
      "4452 4452\n",
      "6254 6254\n",
      "8314 8314\n",
      "10116 10116\n",
      "12175 12175\n",
      "13977 13977\n",
      "16037 16037\n",
      "17839 17839\n",
      "19899 19899\n",
      "21681 21681\n"
     ]
    }
   ],
   "source": [
    "last_height = browser.execute_script(\"return document.getElementById('content').scrollHeight\") \n",
    "while True : \n",
    "    body = browser.find_element(By.TAG_NAME,'body')\n",
    "    body.send_keys(Keys.END)\n",
    "    time.sleep(2.0)\n",
    "    current_height = browser.execute_script(\"return document.getElementById('content').scrollHeight\")\n",
    "    if current_height == last_height :\n",
    "        break \n",
    "        \n",
    "    last_height = current_height\n",
    "    print(last_height,current_height)\n",
    "    if current_height > 20000:\n",
    "        break\n",
    "video_links = browser.find_elements(By.ID,'video-title-link')"
   ]
  },
  {
   "cell_type": "code",
   "execution_count": 289,
   "id": "e4332a25",
   "metadata": {},
   "outputs": [],
   "source": [
    "links = []\n",
    "titles = []\n",
    "for i in range(len(video_links)):\n",
    "    if video_links[i].text:\n",
    "        links.append(video_links[i].get_attribute('href'))\n",
    "        titles.append(video_links[i].text)\n",
    "    else:\n",
    "        break\n",
    "browser.close()"
   ]
  },
  {
   "cell_type": "code",
   "execution_count": 290,
   "id": "755fe279",
   "metadata": {},
   "outputs": [],
   "source": [
    "data = pd.DataFrame({'title': titles, 'link': links} )"
   ]
  },
  {
   "cell_type": "code",
   "execution_count": 291,
   "id": "415f50ca",
   "metadata": {},
   "outputs": [
    {
     "name": "stdout",
     "output_type": "stream",
     "text": [
      "328\n"
     ]
    },
    {
     "data": {
      "text/html": [
       "<div>\n",
       "<style scoped>\n",
       "    .dataframe tbody tr th:only-of-type {\n",
       "        vertical-align: middle;\n",
       "    }\n",
       "\n",
       "    .dataframe tbody tr th {\n",
       "        vertical-align: top;\n",
       "    }\n",
       "\n",
       "    .dataframe thead th {\n",
       "        text-align: right;\n",
       "    }\n",
       "</style>\n",
       "<table border=\"1\" class=\"dataframe\">\n",
       "  <thead>\n",
       "    <tr style=\"text-align: right;\">\n",
       "      <th></th>\n",
       "      <th>title</th>\n",
       "      <th>link</th>\n",
       "      <th>video_num</th>\n",
       "    </tr>\n",
       "  </thead>\n",
       "  <tbody>\n",
       "    <tr>\n",
       "      <th>0</th>\n",
       "      <td>YOUTUBER BAKE OFF vs W2S</td>\n",
       "      <td>https://www.youtube.com/watch?v=QVpd-_RdWss</td>\n",
       "      <td>QVpd-_RdWss</td>\n",
       "    </tr>\n",
       "    <tr>\n",
       "      <th>1</th>\n",
       "      <td>Mikel Arteta Became Our Coach for a Day!</td>\n",
       "      <td>https://www.youtube.com/watch?v=FFpyDoBwjSk</td>\n",
       "      <td>FFpyDoBwjSk</td>\n",
       "    </tr>\n",
       "    <tr>\n",
       "      <th>2</th>\n",
       "      <td>I Got INJURED at The Sidemen Charity Match!</td>\n",
       "      <td>https://www.youtube.com/watch?v=l629KfWCwOE</td>\n",
       "      <td>l629KfWCwOE</td>\n",
       "    </tr>\n",
       "    <tr>\n",
       "      <th>3</th>\n",
       "      <td>How Good is Alisha Lehmann at Football?</td>\n",
       "      <td>https://www.youtube.com/watch?v=ABrNryPZ9P8</td>\n",
       "      <td>ABrNryPZ9P8</td>\n",
       "    </tr>\n",
       "    <tr>\n",
       "      <th>4</th>\n",
       "      <td>England vs Scotland YouTube Football Match - T...</td>\n",
       "      <td>https://www.youtube.com/watch?v=4sDSorCRHeg</td>\n",
       "      <td>4sDSorCRHeg</td>\n",
       "    </tr>\n",
       "  </tbody>\n",
       "</table>\n",
       "</div>"
      ],
      "text/plain": [
       "                                               title  \\\n",
       "0                           YOUTUBER BAKE OFF vs W2S   \n",
       "1           Mikel Arteta Became Our Coach for a Day!   \n",
       "2        I Got INJURED at The Sidemen Charity Match!   \n",
       "3            How Good is Alisha Lehmann at Football?   \n",
       "4  England vs Scotland YouTube Football Match - T...   \n",
       "\n",
       "                                          link    video_num  \n",
       "0  https://www.youtube.com/watch?v=QVpd-_RdWss  QVpd-_RdWss  \n",
       "1  https://www.youtube.com/watch?v=FFpyDoBwjSk  FFpyDoBwjSk  \n",
       "2  https://www.youtube.com/watch?v=l629KfWCwOE  l629KfWCwOE  \n",
       "3  https://www.youtube.com/watch?v=ABrNryPZ9P8  ABrNryPZ9P8  \n",
       "4  https://www.youtube.com/watch?v=4sDSorCRHeg  4sDSorCRHeg  "
      ]
     },
     "execution_count": 291,
     "metadata": {},
     "output_type": "execute_result"
    }
   ],
   "source": [
    "data['video_num'] = data['link'].apply(get_id)\n",
    "print(len(data))\n",
    "data = data.sample(frac=1).reset_index(drop=True)"
   ]
  },
  {
   "cell_type": "code",
   "execution_count": 293,
   "id": "ccf827e3",
   "metadata": {},
   "outputs": [
    {
     "data": {
      "text/html": [
       "<div>\n",
       "<style scoped>\n",
       "    .dataframe tbody tr th:only-of-type {\n",
       "        vertical-align: middle;\n",
       "    }\n",
       "\n",
       "    .dataframe tbody tr th {\n",
       "        vertical-align: top;\n",
       "    }\n",
       "\n",
       "    .dataframe thead th {\n",
       "        text-align: right;\n",
       "    }\n",
       "</style>\n",
       "<table border=\"1\" class=\"dataframe\">\n",
       "  <thead>\n",
       "    <tr style=\"text-align: right;\">\n",
       "      <th></th>\n",
       "      <th>title</th>\n",
       "      <th>link</th>\n",
       "      <th>video_num</th>\n",
       "    </tr>\n",
       "  </thead>\n",
       "  <tbody>\n",
       "    <tr>\n",
       "      <th>0</th>\n",
       "      <td>LOOK WHO CAME TO VISIT!</td>\n",
       "      <td>https://www.youtube.com/watch?v=m20vqgSq0Wg</td>\n",
       "      <td>m20vqgSq0Wg</td>\n",
       "    </tr>\n",
       "    <tr>\n",
       "      <th>1</th>\n",
       "      <td>FOOTBALL ON CRUTCHES!!</td>\n",
       "      <td>https://www.youtube.com/watch?v=H24L_Uu2K9s</td>\n",
       "      <td>H24L_Uu2K9s</td>\n",
       "    </tr>\n",
       "    <tr>\n",
       "      <th>2</th>\n",
       "      <td>DAVID BECKHAM VS ZIDANE FOOTBALL CHALLENGE</td>\n",
       "      <td>https://www.youtube.com/watch?v=DIjWCtnYmUw</td>\n",
       "      <td>DIjWCtnYmUw</td>\n",
       "    </tr>\n",
       "    <tr>\n",
       "      <th>3</th>\n",
       "      <td>SCORING A HAT-TRICK ON HASHTAG UNITED DEBUT!?</td>\n",
       "      <td>https://www.youtube.com/watch?v=O4gSjFQsN4M</td>\n",
       "      <td>O4gSjFQsN4M</td>\n",
       "    </tr>\n",
       "    <tr>\n",
       "      <th>4</th>\n",
       "      <td>I SCORED GOAL OF THE SEASON!!</td>\n",
       "      <td>https://www.youtube.com/watch?v=BTcPFqsAngk</td>\n",
       "      <td>BTcPFqsAngk</td>\n",
       "    </tr>\n",
       "    <tr>\n",
       "      <th>...</th>\n",
       "      <td>...</td>\n",
       "      <td>...</td>\n",
       "      <td>...</td>\n",
       "    </tr>\n",
       "    <tr>\n",
       "      <th>323</th>\n",
       "      <td>ATTRIBUTE CHALLENGE VS CHRISTIAN FUCHS</td>\n",
       "      <td>https://www.youtube.com/watch?v=O5yooLVwMb8</td>\n",
       "      <td>O5yooLVwMb8</td>\n",
       "    </tr>\n",
       "    <tr>\n",
       "      <th>324</th>\n",
       "      <td>PLAYER OF THE YEAR KANTE FOOTBALL CHALLENGE!! ...</td>\n",
       "      <td>https://www.youtube.com/watch?v=GXV1lrkQpCk</td>\n",
       "      <td>GXV1lrkQpCk</td>\n",
       "    </tr>\n",
       "    <tr>\n",
       "      <th>325</th>\n",
       "      <td>DAVID BECKHAM PASSING CHALLENGE | FOOTBALL IN ...</td>\n",
       "      <td>https://www.youtube.com/watch?v=L91fqbHTb8Q</td>\n",
       "      <td>L91fqbHTb8Q</td>\n",
       "    </tr>\n",
       "    <tr>\n",
       "      <th>326</th>\n",
       "      <td>FOOTBALL TRAINING IN FRANCE!</td>\n",
       "      <td>https://www.youtube.com/watch?v=wwtL5Ym3GhY</td>\n",
       "      <td>wwtL5Ym3GhY</td>\n",
       "    </tr>\n",
       "    <tr>\n",
       "      <th>327</th>\n",
       "      <td>PRO FOOTBALL CHALLENGES VS AINSLEY MAITLAND-NI...</td>\n",
       "      <td>https://www.youtube.com/watch?v=1t48xhRQ6t8</td>\n",
       "      <td>1t48xhRQ6t8</td>\n",
       "    </tr>\n",
       "  </tbody>\n",
       "</table>\n",
       "<p>328 rows × 3 columns</p>\n",
       "</div>"
      ],
      "text/plain": [
       "                                                 title  \\\n",
       "0                              LOOK WHO CAME TO VISIT!   \n",
       "1                               FOOTBALL ON CRUTCHES!!   \n",
       "2           DAVID BECKHAM VS ZIDANE FOOTBALL CHALLENGE   \n",
       "3        SCORING A HAT-TRICK ON HASHTAG UNITED DEBUT!?   \n",
       "4                        I SCORED GOAL OF THE SEASON!!   \n",
       "..                                                 ...   \n",
       "323             ATTRIBUTE CHALLENGE VS CHRISTIAN FUCHS   \n",
       "324  PLAYER OF THE YEAR KANTE FOOTBALL CHALLENGE!! ...   \n",
       "325  DAVID BECKHAM PASSING CHALLENGE | FOOTBALL IN ...   \n",
       "326                       FOOTBALL TRAINING IN FRANCE!   \n",
       "327  PRO FOOTBALL CHALLENGES VS AINSLEY MAITLAND-NI...   \n",
       "\n",
       "                                            link    video_num  \n",
       "0    https://www.youtube.com/watch?v=m20vqgSq0Wg  m20vqgSq0Wg  \n",
       "1    https://www.youtube.com/watch?v=H24L_Uu2K9s  H24L_Uu2K9s  \n",
       "2    https://www.youtube.com/watch?v=DIjWCtnYmUw  DIjWCtnYmUw  \n",
       "3    https://www.youtube.com/watch?v=O4gSjFQsN4M  O4gSjFQsN4M  \n",
       "4    https://www.youtube.com/watch?v=BTcPFqsAngk  BTcPFqsAngk  \n",
       "..                                           ...          ...  \n",
       "323  https://www.youtube.com/watch?v=O5yooLVwMb8  O5yooLVwMb8  \n",
       "324  https://www.youtube.com/watch?v=GXV1lrkQpCk  GXV1lrkQpCk  \n",
       "325  https://www.youtube.com/watch?v=L91fqbHTb8Q  L91fqbHTb8Q  \n",
       "326  https://www.youtube.com/watch?v=wwtL5Ym3GhY  wwtL5Ym3GhY  \n",
       "327  https://www.youtube.com/watch?v=1t48xhRQ6t8  1t48xhRQ6t8  \n",
       "\n",
       "[328 rows x 3 columns]"
      ]
     },
     "execution_count": 293,
     "metadata": {},
     "output_type": "execute_result"
    }
   ],
   "source": [
    "data"
   ]
  },
  {
   "cell_type": "markdown",
   "id": "b624f4ec",
   "metadata": {},
   "source": [
    "# 첫 영상관한 데이터 생성하기"
   ]
  },
  {
   "cell_type": "code",
   "execution_count": 294,
   "id": "7104590d",
   "metadata": {},
   "outputs": [],
   "source": [
    "srt = YouTubeTranscriptApi.get_transcript(data.iloc[0,2], languages=['en'])\n",
    "text = ''\n",
    "for j in range(len(srt)):\n",
    "    text += srt[j]['text'] + ''\n",
    "df = get_comment(data.iloc[0,1],15)"
   ]
  },
  {
   "cell_type": "code",
   "execution_count": 295,
   "id": "924295a7",
   "metadata": {},
   "outputs": [],
   "source": [
    "df['content'] = df['content'].apply(preprocess_text)\n",
    "df['content'] = df['content'].apply(comment_cleaner)\n",
    "df['likes'] = df['likes'].apply(preprocess_likes)"
   ]
  },
  {
   "cell_type": "code",
   "execution_count": 296,
   "id": "5b561e7d",
   "metadata": {},
   "outputs": [],
   "source": [
    "df = df.sort_values('likes', ascending = False)\n",
    "#df = df[df['content'].apply(lambda x: len(str(x)) > 20)].reset_index(drop = True)"
   ]
  },
  {
   "cell_type": "code",
   "execution_count": 297,
   "id": "b6d13409",
   "metadata": {},
   "outputs": [],
   "source": [
    "most_like = df.iloc[0,1]\n",
    "middle_like = df.iloc[1,1]\n",
    "fewest_like = df.iloc[2,1]\n",
    "\n",
    "\n",
    "#while True:\n",
    " #   middle_like = df.iloc[random.randint(1, len(df) - 2), 1]\n",
    "  #  if len(middle_like) > 30:\n",
    "   #     break\n",
    "\n",
    "\n",
    "df_partial = pd.DataFrame({'title':[data.iloc[0,0], data.iloc[0,0], data.iloc[0,0]],\n",
    "                           'subtitle': [text, text, text],\n",
    "                          'comment': [most_like, middle_like, fewest_like]})"
   ]
  },
  {
   "cell_type": "code",
   "execution_count": 298,
   "id": "80cbdac3",
   "metadata": {},
   "outputs": [
    {
     "data": {
      "text/html": [
       "<div>\n",
       "<style scoped>\n",
       "    .dataframe tbody tr th:only-of-type {\n",
       "        vertical-align: middle;\n",
       "    }\n",
       "\n",
       "    .dataframe tbody tr th {\n",
       "        vertical-align: top;\n",
       "    }\n",
       "\n",
       "    .dataframe thead th {\n",
       "        text-align: right;\n",
       "    }\n",
       "</style>\n",
       "<table border=\"1\" class=\"dataframe\">\n",
       "  <thead>\n",
       "    <tr style=\"text-align: right;\">\n",
       "      <th></th>\n",
       "      <th>title</th>\n",
       "      <th>subtitle</th>\n",
       "      <th>comment</th>\n",
       "    </tr>\n",
       "  </thead>\n",
       "  <tbody>\n",
       "    <tr>\n",
       "      <th>0</th>\n",
       "      <td>LOOK WHO CAME TO VISIT!</td>\n",
       "      <td>so what's going on guys welcome back toanother...</td>\n",
       "      <td>Be honest now guys does anyone skip to the en...</td>\n",
       "    </tr>\n",
       "    <tr>\n",
       "      <th>1</th>\n",
       "      <td>LOOK WHO CAME TO VISIT!</td>\n",
       "      <td>so what's going on guys welcome back toanother...</td>\n",
       "      <td>Who else knew it was Chris just from the boots</td>\n",
       "    </tr>\n",
       "    <tr>\n",
       "      <th>2</th>\n",
       "      <td>LOOK WHO CAME TO VISIT!</td>\n",
       "      <td>so what's going on guys welcome back toanother...</td>\n",
       "      <td>Theo I hate school I hate work But I don't ha...</td>\n",
       "    </tr>\n",
       "  </tbody>\n",
       "</table>\n",
       "</div>"
      ],
      "text/plain": [
       "                     title                                           subtitle  \\\n",
       "0  LOOK WHO CAME TO VISIT!  so what's going on guys welcome back toanother...   \n",
       "1  LOOK WHO CAME TO VISIT!  so what's going on guys welcome back toanother...   \n",
       "2  LOOK WHO CAME TO VISIT!  so what's going on guys welcome back toanother...   \n",
       "\n",
       "                                             comment  \n",
       "0   Be honest now guys does anyone skip to the en...  \n",
       "1     Who else knew it was Chris just from the boots  \n",
       "2   Theo I hate school I hate work But I don't ha...  "
      ]
     },
     "execution_count": 298,
     "metadata": {},
     "output_type": "execute_result"
    }
   ],
   "source": [
    "df_partial"
   ]
  },
  {
   "cell_type": "markdown",
   "id": "4693c5e3",
   "metadata": {},
   "source": [
    "# 나머지 영상 크롤링후 concat"
   ]
  },
  {
   "cell_type": "code",
   "execution_count": 300,
   "id": "f606f933",
   "metadata": {},
   "outputs": [
    {
     "name": "stderr",
     "output_type": "stream",
     "text": [
      "  3%|██▏                                                                                | 1/39 [00:25<15:51, 25.05s/it]"
     ]
    },
    {
     "name": "stdout",
     "output_type": "stream",
     "text": [
      "122 53 100\n"
     ]
    },
    {
     "name": "stderr",
     "output_type": "stream",
     "text": [
      "  5%|████▎                                                                              | 2/39 [00:47<14:21, 23.28s/it]"
     ]
    },
    {
     "name": "stdout",
     "output_type": "stream",
     "text": [
      "139 65 303\n"
     ]
    },
    {
     "name": "stderr",
     "output_type": "stream",
     "text": [
      "  8%|██████▍                                                                            | 3/39 [01:11<14:15, 23.77s/it]"
     ]
    },
    {
     "name": "stdout",
     "output_type": "stream",
     "text": [
      "79 42 35\n"
     ]
    },
    {
     "name": "stderr",
     "output_type": "stream",
     "text": [
      " 10%|████████▌                                                                          | 4/39 [01:34<13:41, 23.48s/it]"
     ]
    },
    {
     "name": "stdout",
     "output_type": "stream",
     "text": [
      "32 117 108\n"
     ]
    },
    {
     "name": "stderr",
     "output_type": "stream",
     "text": [
      " 13%|██████████▋                                                                        | 5/39 [01:56<13:02, 23.03s/it]"
     ]
    },
    {
     "name": "stdout",
     "output_type": "stream",
     "text": [
      "68 43 34\n"
     ]
    },
    {
     "name": "stderr",
     "output_type": "stream",
     "text": [
      " 15%|████████████▊                                                                      | 6/39 [02:22<13:15, 24.11s/it]"
     ]
    },
    {
     "name": "stdout",
     "output_type": "stream",
     "text": [
      "47 43 29\n"
     ]
    },
    {
     "name": "stderr",
     "output_type": "stream",
     "text": [
      " 18%|██████████████▉                                                                    | 7/39 [02:46<12:45, 23.91s/it]"
     ]
    },
    {
     "name": "stdout",
     "output_type": "stream",
     "text": [
      "120 64 36\n"
     ]
    },
    {
     "name": "stderr",
     "output_type": "stream",
     "text": [
      " 21%|█████████████████                                                                  | 8/39 [03:12<12:38, 24.47s/it]"
     ]
    },
    {
     "name": "stdout",
     "output_type": "stream",
     "text": [
      "105 99 29\n"
     ]
    },
    {
     "name": "stderr",
     "output_type": "stream",
     "text": [
      " 23%|███████████████████▏                                                               | 9/39 [03:34<11:54, 23.82s/it]"
     ]
    },
    {
     "name": "stdout",
     "output_type": "stream",
     "text": [
      "158 248 48\n"
     ]
    },
    {
     "name": "stderr",
     "output_type": "stream",
     "text": [
      " 26%|█████████████████████                                                             | 10/39 [04:00<11:48, 24.43s/it]"
     ]
    },
    {
     "name": "stdout",
     "output_type": "stream",
     "text": [
      "103 116 77\n"
     ]
    },
    {
     "name": "stderr",
     "output_type": "stream",
     "text": [
      " 28%|███████████████████████▏                                                          | 11/39 [04:26<11:38, 24.95s/it]"
     ]
    },
    {
     "name": "stdout",
     "output_type": "stream",
     "text": [
      "40 79 103\n"
     ]
    },
    {
     "name": "stderr",
     "output_type": "stream",
     "text": [
      " 31%|█████████████████████████▏                                                        | 12/39 [04:50<11:09, 24.78s/it]"
     ]
    },
    {
     "name": "stdout",
     "output_type": "stream",
     "text": [
      "66 36 21\n"
     ]
    },
    {
     "name": "stderr",
     "output_type": "stream",
     "text": [
      " 33%|███████████████████████████▎                                                      | 13/39 [05:15<10:42, 24.70s/it]"
     ]
    },
    {
     "name": "stdout",
     "output_type": "stream",
     "text": [
      "101 24 28\n"
     ]
    },
    {
     "name": "stderr",
     "output_type": "stream",
     "text": [
      " 36%|█████████████████████████████▍                                                    | 14/39 [05:37<09:58, 23.92s/it]"
     ]
    },
    {
     "name": "stdout",
     "output_type": "stream",
     "text": [
      "89 46 70\n"
     ]
    },
    {
     "name": "stderr",
     "output_type": "stream",
     "text": [
      " 38%|███████████████████████████████▌                                                  | 15/39 [05:59<09:22, 23.45s/it]"
     ]
    },
    {
     "name": "stdout",
     "output_type": "stream",
     "text": [
      "55 176 39\n"
     ]
    },
    {
     "name": "stderr",
     "output_type": "stream",
     "text": [
      " 41%|█████████████████████████████████▋                                                | 16/39 [06:24<09:06, 23.75s/it]"
     ]
    },
    {
     "name": "stdout",
     "output_type": "stream",
     "text": [
      "51 75 26\n"
     ]
    },
    {
     "name": "stderr",
     "output_type": "stream",
     "text": [
      " 44%|███████████████████████████████████▋                                              | 17/39 [06:46<08:35, 23.42s/it]"
     ]
    },
    {
     "name": "stdout",
     "output_type": "stream",
     "text": [
      "68 38 37\n"
     ]
    },
    {
     "name": "stderr",
     "output_type": "stream",
     "text": [
      " 46%|█████████████████████████████████████▊                                            | 18/39 [07:07<07:57, 22.73s/it]"
     ]
    },
    {
     "name": "stdout",
     "output_type": "stream",
     "text": [
      "27 72 25\n"
     ]
    },
    {
     "name": "stderr",
     "output_type": "stream",
     "text": [
      " 49%|███████████████████████████████████████▉                                          | 19/39 [07:33<07:51, 23.58s/it]"
     ]
    },
    {
     "name": "stdout",
     "output_type": "stream",
     "text": [
      "48 70 51\n"
     ]
    },
    {
     "name": "stderr",
     "output_type": "stream",
     "text": [
      " 51%|██████████████████████████████████████████                                        | 20/39 [07:54<07:10, 22.67s/it]"
     ]
    },
    {
     "name": "stdout",
     "output_type": "stream",
     "text": [
      "54 43 37\n"
     ]
    },
    {
     "name": "stderr",
     "output_type": "stream",
     "text": [
      " 54%|████████████████████████████████████████████▏                                     | 21/39 [08:18<06:56, 23.13s/it]"
     ]
    },
    {
     "name": "stdout",
     "output_type": "stream",
     "text": [
      "66 61 39\n"
     ]
    },
    {
     "name": "stderr",
     "output_type": "stream",
     "text": [
      " 56%|██████████████████████████████████████████████▎                                   | 22/39 [08:35<06:00, 21.21s/it]"
     ]
    },
    {
     "name": "stdout",
     "output_type": "stream",
     "text": [
      "120 35 56\n"
     ]
    },
    {
     "name": "stderr",
     "output_type": "stream",
     "text": [
      " 59%|████████████████████████████████████████████████▎                                 | 23/39 [08:51<05:17, 19.82s/it]"
     ]
    },
    {
     "name": "stdout",
     "output_type": "stream",
     "text": [
      "189 29 133\n"
     ]
    },
    {
     "name": "stderr",
     "output_type": "stream",
     "text": [
      " 62%|██████████████████████████████████████████████████▍                               | 24/39 [09:07<04:40, 18.73s/it]"
     ]
    },
    {
     "name": "stdout",
     "output_type": "stream",
     "text": [
      "111 37 54\n"
     ]
    },
    {
     "name": "stderr",
     "output_type": "stream",
     "text": [
      " 64%|████████████████████████████████████████████████████▌                             | 25/39 [09:23<04:10, 17.90s/it]"
     ]
    },
    {
     "name": "stdout",
     "output_type": "stream",
     "text": [
      "65 40 32\n"
     ]
    },
    {
     "name": "stderr",
     "output_type": "stream",
     "text": [
      " 67%|██████████████████████████████████████████████████████▋                           | 26/39 [09:40<03:47, 17.48s/it]"
     ]
    },
    {
     "name": "stdout",
     "output_type": "stream",
     "text": [
      "93 69 22\n"
     ]
    },
    {
     "name": "stderr",
     "output_type": "stream",
     "text": [
      " 69%|████████████████████████████████████████████████████████▊                         | 27/39 [09:54<03:19, 16.63s/it]"
     ]
    },
    {
     "name": "stdout",
     "output_type": "stream",
     "text": [
      "63 29 37\n"
     ]
    },
    {
     "name": "stderr",
     "output_type": "stream",
     "text": [
      " 72%|██████████████████████████████████████████████████████████▊                       | 28/39 [10:10<02:58, 16.21s/it]"
     ]
    },
    {
     "name": "stdout",
     "output_type": "stream",
     "text": [
      "50 54 66\n"
     ]
    },
    {
     "name": "stderr",
     "output_type": "stream",
     "text": [
      " 74%|████████████████████████████████████████████████████████████▉                     | 29/39 [10:24<02:37, 15.78s/it]"
     ]
    },
    {
     "name": "stdout",
     "output_type": "stream",
     "text": [
      "54 55 167\n"
     ]
    },
    {
     "name": "stderr",
     "output_type": "stream",
     "text": [
      " 77%|███████████████████████████████████████████████████████████████                   | 30/39 [10:39<02:19, 15.47s/it]"
     ]
    },
    {
     "name": "stdout",
     "output_type": "stream",
     "text": [
      "86 119 687\n"
     ]
    },
    {
     "name": "stderr",
     "output_type": "stream",
     "text": [
      " 79%|█████████████████████████████████████████████████████████████████▏                | 31/39 [10:55<02:03, 15.43s/it]"
     ]
    },
    {
     "name": "stdout",
     "output_type": "stream",
     "text": [
      "100 25 61\n"
     ]
    },
    {
     "name": "stderr",
     "output_type": "stream",
     "text": [
      " 82%|███████████████████████████████████████████████████████████████████▎              | 32/39 [11:09<01:46, 15.18s/it]"
     ]
    },
    {
     "name": "stdout",
     "output_type": "stream",
     "text": [
      "40 34 29\n"
     ]
    },
    {
     "name": "stderr",
     "output_type": "stream",
     "text": [
      " 85%|█████████████████████████████████████████████████████████████████████▍            | 33/39 [11:24<01:31, 15.23s/it]"
     ]
    },
    {
     "name": "stdout",
     "output_type": "stream",
     "text": [
      "45 141 42\n"
     ]
    },
    {
     "name": "stderr",
     "output_type": "stream",
     "text": [
      " 87%|███████████████████████████████████████████████████████████████████████▍          | 34/39 [11:41<01:17, 15.50s/it]"
     ]
    },
    {
     "name": "stdout",
     "output_type": "stream",
     "text": [
      "52 74 38\n"
     ]
    },
    {
     "name": "stderr",
     "output_type": "stream",
     "text": [
      " 90%|█████████████████████████████████████████████████████████████████████████▌        | 35/39 [11:58<01:04, 16.04s/it]"
     ]
    },
    {
     "name": "stdout",
     "output_type": "stream",
     "text": [
      "68 33 31\n"
     ]
    },
    {
     "name": "stderr",
     "output_type": "stream",
     "text": [
      " 92%|███████████████████████████████████████████████████████████████████████████▋      | 36/39 [12:13<00:47, 15.83s/it]"
     ]
    },
    {
     "name": "stdout",
     "output_type": "stream",
     "text": [
      "96 190 99\n"
     ]
    },
    {
     "name": "stderr",
     "output_type": "stream",
     "text": [
      " 95%|█████████████████████████████████████████████████████████████████████████████▊    | 37/39 [12:30<00:32, 16.13s/it]"
     ]
    },
    {
     "name": "stdout",
     "output_type": "stream",
     "text": [
      "40 40 41\n"
     ]
    },
    {
     "name": "stderr",
     "output_type": "stream",
     "text": [
      " 97%|███████████████████████████████████████████████████████████████████████████████▉  | 38/39 [12:46<00:16, 16.11s/it]"
     ]
    },
    {
     "name": "stdout",
     "output_type": "stream",
     "text": [
      "38 31 21\n"
     ]
    },
    {
     "name": "stderr",
     "output_type": "stream",
     "text": [
      " 97%|███████████████████████████████████████████████████████████████████████████████▉  | 38/39 [13:01<00:20, 20.57s/it]"
     ]
    },
    {
     "name": "stdout",
     "output_type": "stream",
     "text": [
      "46 70 80\n"
     ]
    },
    {
     "name": "stderr",
     "output_type": "stream",
     "text": [
      "\n"
     ]
    }
   ],
   "source": [
    "for i in tqdm.tqdm(range(13,52)):\n",
    "    #자막 추출\n",
    "    srt = YouTubeTranscriptApi.get_transcript(data.iloc[i,2], languages=['en'])\n",
    "    text = ''\n",
    "    for j in range(len(srt)):\n",
    "        text += srt[j]['text'] + ''\n",
    "    # 댓글 추출\n",
    "    df = get_comment(data.iloc[i,1],10)\n",
    "    df['content'] = df['content'].apply(preprocess_text)\n",
    "    df['content'] = df['content'].apply(comment_cleaner)\n",
    "    df['likes'] = df['likes'].apply(preprocess_likes)\n",
    "    \n",
    "    df = df.sort_values('likes', ascending = False)\n",
    "    df = df[df['content'].apply(lambda x: len(str(x)) > 20)].reset_index(drop = True)\n",
    "    \n",
    "    most_like = df.iloc[0,1]\n",
    "    middle_like = df.iloc[random.randint(2,len(df)-2),1]\n",
    "    fewest_like = df.iloc[-1,1]\n",
    "    \n",
    "    \n",
    "    print(len(most_like), len(middle_like), len(fewest_like))\n",
    "    \n",
    "        \n",
    "        \n",
    "    df_partial_new = pd.DataFrame({'title':[data.iloc[i,0], data.iloc[i,0], data.iloc[i,0]],\n",
    "                                   'subtitle': [text, text, text],\n",
    "                          'comment': [most_like, middle_like, fewest_like]})\n",
    "    df_partial = pd.concat([df_partial, df_partial_new])\n",
    "    if len(df_partial) == 150:\n",
    "        break"
   ]
  },
  {
   "cell_type": "code",
   "execution_count": 303,
   "id": "be2d55ae",
   "metadata": {},
   "outputs": [
    {
     "data": {
      "text/html": [
       "<div>\n",
       "<style scoped>\n",
       "    .dataframe tbody tr th:only-of-type {\n",
       "        vertical-align: middle;\n",
       "    }\n",
       "\n",
       "    .dataframe tbody tr th {\n",
       "        vertical-align: top;\n",
       "    }\n",
       "\n",
       "    .dataframe thead th {\n",
       "        text-align: right;\n",
       "    }\n",
       "</style>\n",
       "<table border=\"1\" class=\"dataframe\">\n",
       "  <thead>\n",
       "    <tr style=\"text-align: right;\">\n",
       "      <th></th>\n",
       "      <th>title</th>\n",
       "      <th>subtitle</th>\n",
       "      <th>comment</th>\n",
       "    </tr>\n",
       "  </thead>\n",
       "  <tbody>\n",
       "    <tr>\n",
       "      <th>0</th>\n",
       "      <td>LOOK WHO CAME TO VISIT!</td>\n",
       "      <td>so what's going on guys welcome back toanother...</td>\n",
       "      <td>Be honest now guys does anyone skip to the en...</td>\n",
       "    </tr>\n",
       "    <tr>\n",
       "      <th>1</th>\n",
       "      <td>LOOK WHO CAME TO VISIT!</td>\n",
       "      <td>so what's going on guys welcome back toanother...</td>\n",
       "      <td>Who else knew it was Chris just from the boots</td>\n",
       "    </tr>\n",
       "    <tr>\n",
       "      <th>2</th>\n",
       "      <td>LOOK WHO CAME TO VISIT!</td>\n",
       "      <td>so what's going on guys welcome back toanother...</td>\n",
       "      <td>Theo I hate school I hate work But I don't ha...</td>\n",
       "    </tr>\n",
       "    <tr>\n",
       "      <th>0</th>\n",
       "      <td>FOOTBALL ON CRUTCHES!!</td>\n",
       "      <td>boys and girls before you start thisvideo I ha...</td>\n",
       "      <td>I live in australia but watching your videos ...</td>\n",
       "    </tr>\n",
       "    <tr>\n",
       "      <th>1</th>\n",
       "      <td>FOOTBALL ON CRUTCHES!!</td>\n",
       "      <td>boys and girls before you start thisvideo I ha...</td>\n",
       "      <td>MAKE YOUR FIFA RATING 78 AND 9 PLEASE I LOVE ...</td>\n",
       "    </tr>\n",
       "    <tr>\n",
       "      <th>...</th>\n",
       "      <td>...</td>\n",
       "      <td>...</td>\n",
       "      <td>...</td>\n",
       "    </tr>\n",
       "    <tr>\n",
       "      <th>1</th>\n",
       "      <td>TOTY VOLLEY DRAFTWARS VS DANIEL CUTTING!!</td>\n",
       "      <td>cool what's going on guys welcome backto anoth...</td>\n",
       "      <td>It’s all about that chemistry</td>\n",
       "    </tr>\n",
       "    <tr>\n",
       "      <th>2</th>\n",
       "      <td>TOTY VOLLEY DRAFTWARS VS DANIEL CUTTING!!</td>\n",
       "      <td>cool what's going on guys welcome backto anoth...</td>\n",
       "      <td>Great as always theo</td>\n",
       "    </tr>\n",
       "    <tr>\n",
       "      <th>0</th>\n",
       "      <td>ULTIMATE FREEKICK CHALLENGE | THEO VS CHARLIE #3</td>\n",
       "      <td>what's going on guys welcome back to thethird ...</td>\n",
       "      <td>What should the next challenge be Be creative</td>\n",
       "    </tr>\n",
       "    <tr>\n",
       "      <th>1</th>\n",
       "      <td>ULTIMATE FREEKICK CHALLENGE | THEO VS CHARLIE #3</td>\n",
       "      <td>what's going on guys welcome back to thethird ...</td>\n",
       "      <td>Do a mikitarian and giroud volly challenge bu...</td>\n",
       "    </tr>\n",
       "    <tr>\n",
       "      <th>2</th>\n",
       "      <td>ULTIMATE FREEKICK CHALLENGE | THEO VS CHARLIE #3</td>\n",
       "      <td>what's going on guys welcome back to thethird ...</td>\n",
       "      <td>Do longshots from each line but the ball cant...</td>\n",
       "    </tr>\n",
       "  </tbody>\n",
       "</table>\n",
       "<p>150 rows × 3 columns</p>\n",
       "</div>"
      ],
      "text/plain": [
       "                                               title  \\\n",
       "0                            LOOK WHO CAME TO VISIT!   \n",
       "1                            LOOK WHO CAME TO VISIT!   \n",
       "2                            LOOK WHO CAME TO VISIT!   \n",
       "0                             FOOTBALL ON CRUTCHES!!   \n",
       "1                             FOOTBALL ON CRUTCHES!!   \n",
       "..                                               ...   \n",
       "1          TOTY VOLLEY DRAFTWARS VS DANIEL CUTTING!!   \n",
       "2          TOTY VOLLEY DRAFTWARS VS DANIEL CUTTING!!   \n",
       "0   ULTIMATE FREEKICK CHALLENGE | THEO VS CHARLIE #3   \n",
       "1   ULTIMATE FREEKICK CHALLENGE | THEO VS CHARLIE #3   \n",
       "2   ULTIMATE FREEKICK CHALLENGE | THEO VS CHARLIE #3   \n",
       "\n",
       "                                             subtitle  \\\n",
       "0   so what's going on guys welcome back toanother...   \n",
       "1   so what's going on guys welcome back toanother...   \n",
       "2   so what's going on guys welcome back toanother...   \n",
       "0   boys and girls before you start thisvideo I ha...   \n",
       "1   boys and girls before you start thisvideo I ha...   \n",
       "..                                                ...   \n",
       "1   cool what's going on guys welcome backto anoth...   \n",
       "2   cool what's going on guys welcome backto anoth...   \n",
       "0   what's going on guys welcome back to thethird ...   \n",
       "1   what's going on guys welcome back to thethird ...   \n",
       "2   what's going on guys welcome back to thethird ...   \n",
       "\n",
       "                                              comment  \n",
       "0    Be honest now guys does anyone skip to the en...  \n",
       "1      Who else knew it was Chris just from the boots  \n",
       "2    Theo I hate school I hate work But I don't ha...  \n",
       "0    I live in australia but watching your videos ...  \n",
       "1    MAKE YOUR FIFA RATING 78 AND 9 PLEASE I LOVE ...  \n",
       "..                                                ...  \n",
       "1                      It’s all about that chemistry   \n",
       "2                                Great as always theo  \n",
       "0       What should the next challenge be Be creative  \n",
       "1    Do a mikitarian and giroud volly challenge bu...  \n",
       "2    Do longshots from each line but the ball cant...  \n",
       "\n",
       "[150 rows x 3 columns]"
      ]
     },
     "execution_count": 303,
     "metadata": {},
     "output_type": "execute_result"
    }
   ],
   "source": [
    "df_partial"
   ]
  },
  {
   "cell_type": "code",
   "execution_count": 304,
   "id": "3c6b0f6a",
   "metadata": {},
   "outputs": [],
   "source": [
    "df_partial.to_excel('NLP_theobaker.xlsx', index=False)"
   ]
  }
 ],
 "metadata": {
  "kernelspec": {
   "display_name": "Python 3",
   "language": "python",
   "name": "python3"
  },
  "language_info": {
   "codemirror_mode": {
    "name": "ipython",
    "version": 3
   },
   "file_extension": ".py",
   "mimetype": "text/x-python",
   "name": "python",
   "nbconvert_exporter": "python",
   "pygments_lexer": "ipython3",
   "version": "3.8.8"
  }
 },
 "nbformat": 4,
 "nbformat_minor": 5
}
